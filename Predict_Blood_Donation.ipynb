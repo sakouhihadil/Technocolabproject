{
  "nbformat": 4,
  "nbformat_minor": 0,
  "metadata": {
    "colab": {
      "name": "Predict Blood Donation.ipynb",
      "provenance": [],
      "mount_file_id": "1kt80MuZS1wK5X_qzWhFPPxnC3EVO95EW",
      "authorship_tag": "ABX9TyPW2AF/NHaEmZ7rp/YQfSxc",
      "include_colab_link": true
    },
    "kernelspec": {
      "name": "python3",
      "display_name": "Python 3"
    },
    "language_info": {
      "name": "python"
    },
    "widgets": {
      "application/vnd.jupyter.widget-state+json": {
        "820f46ec5db949b5804ca1a85743c617": {
          "model_module": "@jupyter-widgets/controls",
          "model_name": "HBoxModel",
          "model_module_version": "1.5.0",
          "state": {
            "_dom_classes": [],
            "_model_module": "@jupyter-widgets/controls",
            "_model_module_version": "1.5.0",
            "_model_name": "HBoxModel",
            "_view_count": null,
            "_view_module": "@jupyter-widgets/controls",
            "_view_module_version": "1.5.0",
            "_view_name": "HBoxView",
            "box_style": "",
            "children": [
              "IPY_MODEL_d63206972374404b932375df4f429086",
              "IPY_MODEL_e3320770f4c946d289677e57432e0b21",
              "IPY_MODEL_d34d7d9152ff44e6b7e374953f585726"
            ],
            "layout": "IPY_MODEL_97e40b59334b497298a92ceb7be54e6b"
          }
        },
        "d63206972374404b932375df4f429086": {
          "model_module": "@jupyter-widgets/controls",
          "model_name": "HTMLModel",
          "model_module_version": "1.5.0",
          "state": {
            "_dom_classes": [],
            "_model_module": "@jupyter-widgets/controls",
            "_model_module_version": "1.5.0",
            "_model_name": "HTMLModel",
            "_view_count": null,
            "_view_module": "@jupyter-widgets/controls",
            "_view_module_version": "1.5.0",
            "_view_name": "HTMLView",
            "description": "",
            "description_tooltip": null,
            "layout": "IPY_MODEL_c7249f8f03c44c16b0cbbb5b128337a3",
            "placeholder": "​",
            "style": "IPY_MODEL_af900f0419954bca974673bb82b90624",
            "value": "Optimization Progress: 100%"
          }
        },
        "e3320770f4c946d289677e57432e0b21": {
          "model_module": "@jupyter-widgets/controls",
          "model_name": "FloatProgressModel",
          "model_module_version": "1.5.0",
          "state": {
            "_dom_classes": [],
            "_model_module": "@jupyter-widgets/controls",
            "_model_module_version": "1.5.0",
            "_model_name": "FloatProgressModel",
            "_view_count": null,
            "_view_module": "@jupyter-widgets/controls",
            "_view_module_version": "1.5.0",
            "_view_name": "ProgressView",
            "bar_style": "",
            "description": "",
            "description_tooltip": null,
            "layout": "IPY_MODEL_8b99f98e41424a6b83d3af4f66623553",
            "max": 120,
            "min": 0,
            "orientation": "horizontal",
            "style": "IPY_MODEL_a5c99633597240ba88544f0967c81559",
            "value": 120
          }
        },
        "d34d7d9152ff44e6b7e374953f585726": {
          "model_module": "@jupyter-widgets/controls",
          "model_name": "HTMLModel",
          "model_module_version": "1.5.0",
          "state": {
            "_dom_classes": [],
            "_model_module": "@jupyter-widgets/controls",
            "_model_module_version": "1.5.0",
            "_model_name": "HTMLModel",
            "_view_count": null,
            "_view_module": "@jupyter-widgets/controls",
            "_view_module_version": "1.5.0",
            "_view_name": "HTMLView",
            "description": "",
            "description_tooltip": null,
            "layout": "IPY_MODEL_1869f9aebe9346929aa833639016526d",
            "placeholder": "​",
            "style": "IPY_MODEL_e6bf788c17ac4458a10faa0a281bc25f",
            "value": " 120/120 [00:08&lt;00:00, 12.29pipeline/s]"
          }
        },
        "97e40b59334b497298a92ceb7be54e6b": {
          "model_module": "@jupyter-widgets/base",
          "model_name": "LayoutModel",
          "model_module_version": "1.2.0",
          "state": {
            "_model_module": "@jupyter-widgets/base",
            "_model_module_version": "1.2.0",
            "_model_name": "LayoutModel",
            "_view_count": null,
            "_view_module": "@jupyter-widgets/base",
            "_view_module_version": "1.2.0",
            "_view_name": "LayoutView",
            "align_content": null,
            "align_items": null,
            "align_self": null,
            "border": null,
            "bottom": null,
            "display": null,
            "flex": null,
            "flex_flow": null,
            "grid_area": null,
            "grid_auto_columns": null,
            "grid_auto_flow": null,
            "grid_auto_rows": null,
            "grid_column": null,
            "grid_gap": null,
            "grid_row": null,
            "grid_template_areas": null,
            "grid_template_columns": null,
            "grid_template_rows": null,
            "height": null,
            "justify_content": null,
            "justify_items": null,
            "left": null,
            "margin": null,
            "max_height": null,
            "max_width": null,
            "min_height": null,
            "min_width": null,
            "object_fit": null,
            "object_position": null,
            "order": null,
            "overflow": null,
            "overflow_x": null,
            "overflow_y": null,
            "padding": null,
            "right": null,
            "top": null,
            "visibility": null,
            "width": null
          }
        },
        "c7249f8f03c44c16b0cbbb5b128337a3": {
          "model_module": "@jupyter-widgets/base",
          "model_name": "LayoutModel",
          "model_module_version": "1.2.0",
          "state": {
            "_model_module": "@jupyter-widgets/base",
            "_model_module_version": "1.2.0",
            "_model_name": "LayoutModel",
            "_view_count": null,
            "_view_module": "@jupyter-widgets/base",
            "_view_module_version": "1.2.0",
            "_view_name": "LayoutView",
            "align_content": null,
            "align_items": null,
            "align_self": null,
            "border": null,
            "bottom": null,
            "display": null,
            "flex": null,
            "flex_flow": null,
            "grid_area": null,
            "grid_auto_columns": null,
            "grid_auto_flow": null,
            "grid_auto_rows": null,
            "grid_column": null,
            "grid_gap": null,
            "grid_row": null,
            "grid_template_areas": null,
            "grid_template_columns": null,
            "grid_template_rows": null,
            "height": null,
            "justify_content": null,
            "justify_items": null,
            "left": null,
            "margin": null,
            "max_height": null,
            "max_width": null,
            "min_height": null,
            "min_width": null,
            "object_fit": null,
            "object_position": null,
            "order": null,
            "overflow": null,
            "overflow_x": null,
            "overflow_y": null,
            "padding": null,
            "right": null,
            "top": null,
            "visibility": null,
            "width": null
          }
        },
        "af900f0419954bca974673bb82b90624": {
          "model_module": "@jupyter-widgets/controls",
          "model_name": "DescriptionStyleModel",
          "model_module_version": "1.5.0",
          "state": {
            "_model_module": "@jupyter-widgets/controls",
            "_model_module_version": "1.5.0",
            "_model_name": "DescriptionStyleModel",
            "_view_count": null,
            "_view_module": "@jupyter-widgets/base",
            "_view_module_version": "1.2.0",
            "_view_name": "StyleView",
            "description_width": ""
          }
        },
        "8b99f98e41424a6b83d3af4f66623553": {
          "model_module": "@jupyter-widgets/base",
          "model_name": "LayoutModel",
          "model_module_version": "1.2.0",
          "state": {
            "_model_module": "@jupyter-widgets/base",
            "_model_module_version": "1.2.0",
            "_model_name": "LayoutModel",
            "_view_count": null,
            "_view_module": "@jupyter-widgets/base",
            "_view_module_version": "1.2.0",
            "_view_name": "LayoutView",
            "align_content": null,
            "align_items": null,
            "align_self": null,
            "border": null,
            "bottom": null,
            "display": null,
            "flex": null,
            "flex_flow": null,
            "grid_area": null,
            "grid_auto_columns": null,
            "grid_auto_flow": null,
            "grid_auto_rows": null,
            "grid_column": null,
            "grid_gap": null,
            "grid_row": null,
            "grid_template_areas": null,
            "grid_template_columns": null,
            "grid_template_rows": null,
            "height": null,
            "justify_content": null,
            "justify_items": null,
            "left": null,
            "margin": null,
            "max_height": null,
            "max_width": null,
            "min_height": null,
            "min_width": null,
            "object_fit": null,
            "object_position": null,
            "order": null,
            "overflow": null,
            "overflow_x": null,
            "overflow_y": null,
            "padding": null,
            "right": null,
            "top": null,
            "visibility": null,
            "width": null
          }
        },
        "a5c99633597240ba88544f0967c81559": {
          "model_module": "@jupyter-widgets/controls",
          "model_name": "ProgressStyleModel",
          "model_module_version": "1.5.0",
          "state": {
            "_model_module": "@jupyter-widgets/controls",
            "_model_module_version": "1.5.0",
            "_model_name": "ProgressStyleModel",
            "_view_count": null,
            "_view_module": "@jupyter-widgets/base",
            "_view_module_version": "1.2.0",
            "_view_name": "StyleView",
            "bar_color": null,
            "description_width": ""
          }
        },
        "1869f9aebe9346929aa833639016526d": {
          "model_module": "@jupyter-widgets/base",
          "model_name": "LayoutModel",
          "model_module_version": "1.2.0",
          "state": {
            "_model_module": "@jupyter-widgets/base",
            "_model_module_version": "1.2.0",
            "_model_name": "LayoutModel",
            "_view_count": null,
            "_view_module": "@jupyter-widgets/base",
            "_view_module_version": "1.2.0",
            "_view_name": "LayoutView",
            "align_content": null,
            "align_items": null,
            "align_self": null,
            "border": null,
            "bottom": null,
            "display": null,
            "flex": null,
            "flex_flow": null,
            "grid_area": null,
            "grid_auto_columns": null,
            "grid_auto_flow": null,
            "grid_auto_rows": null,
            "grid_column": null,
            "grid_gap": null,
            "grid_row": null,
            "grid_template_areas": null,
            "grid_template_columns": null,
            "grid_template_rows": null,
            "height": null,
            "justify_content": null,
            "justify_items": null,
            "left": null,
            "margin": null,
            "max_height": null,
            "max_width": null,
            "min_height": null,
            "min_width": null,
            "object_fit": null,
            "object_position": null,
            "order": null,
            "overflow": null,
            "overflow_x": null,
            "overflow_y": null,
            "padding": null,
            "right": null,
            "top": null,
            "visibility": null,
            "width": null
          }
        },
        "e6bf788c17ac4458a10faa0a281bc25f": {
          "model_module": "@jupyter-widgets/controls",
          "model_name": "DescriptionStyleModel",
          "model_module_version": "1.5.0",
          "state": {
            "_model_module": "@jupyter-widgets/controls",
            "_model_module_version": "1.5.0",
            "_model_name": "DescriptionStyleModel",
            "_view_count": null,
            "_view_module": "@jupyter-widgets/base",
            "_view_module_version": "1.2.0",
            "_view_name": "StyleView",
            "description_width": ""
          }
        }
      }
    }
  },
  "cells": [
    {
      "cell_type": "markdown",
      "metadata": {
        "id": "view-in-github",
        "colab_type": "text"
      },
      "source": [
        "<a href=\"https://colab.research.google.com/github/sakouhihadil/Technocolabproject/blob/main/Predict_Blood_Donation.ipynb\" target=\"_parent\"><img src=\"https://colab.research.google.com/assets/colab-badge.svg\" alt=\"Open In Colab\"/></a>"
      ]
    },
    {
      "cell_type": "markdown",
      "source": [
        "# Predicting Blood Donations\n",
        "\n",
        "\n",
        "   **1.  Inspecting transfusion.data file**\n",
        "\n",
        "\n"
      ],
      "metadata": {
        "id": "0q9UN0xhXYku"
      }
    },
    {
      "cell_type": "code",
      "execution_count": 1,
      "metadata": {
        "colab": {
          "base_uri": "https://localhost:8080/"
        },
        "id": "5VLFOrfiGKnZ",
        "outputId": "168df9bc-e404-4723-bffc-cb5c20d23d46"
      },
      "outputs": [
        {
          "output_type": "stream",
          "name": "stdout",
          "text": [
            "head: cannot open '/transfusion.data' for reading: No such file or directory\n"
          ]
        }
      ],
      "source": [
        "#print the 5 lines from transfusio.data file\n",
        "!head -n5 /transfusion.data"
      ]
    },
    {
      "cell_type": "markdown",
      "source": [
        "\n",
        "**2.   Loading the blood donations data**\n",
        "\n"
      ],
      "metadata": {
        "id": "lf37jjW8bPbF"
      }
    },
    {
      "cell_type": "code",
      "source": [
        "import pandas as pd\n",
        "\n",
        "#Read dataset \n",
        "df = pd.read_csv('/content/sample_data/transfusion.data')\n",
        "#Print the first rows of our dataset\n",
        "df.head()"
      ],
      "metadata": {
        "colab": {
          "base_uri": "https://localhost:8080/",
          "height": 206
        },
        "id": "RBDaEaDqa8Cl",
        "outputId": "e26421a3-9656-4aa9-e3d6-715d4635371f"
      },
      "execution_count": 3,
      "outputs": [
        {
          "output_type": "execute_result",
          "data": {
            "text/plain": [
              "   Recency (months)  Frequency (times)  Monetary (c.c. blood)  Time (months)  \\\n",
              "0                 2                 50                  12500             98   \n",
              "1                 0                 13                   3250             28   \n",
              "2                 1                 16                   4000             35   \n",
              "3                 2                 20                   5000             45   \n",
              "4                 1                 24                   6000             77   \n",
              "\n",
              "   whether he/she donated blood in March 2007  \n",
              "0                                           1  \n",
              "1                                           1  \n",
              "2                                           1  \n",
              "3                                           1  \n",
              "4                                           0  "
            ],
            "text/html": [
              "\n",
              "  <div id=\"df-2f6a24a6-a3b1-4e93-9807-11c74def3b77\">\n",
              "    <div class=\"colab-df-container\">\n",
              "      <div>\n",
              "<style scoped>\n",
              "    .dataframe tbody tr th:only-of-type {\n",
              "        vertical-align: middle;\n",
              "    }\n",
              "\n",
              "    .dataframe tbody tr th {\n",
              "        vertical-align: top;\n",
              "    }\n",
              "\n",
              "    .dataframe thead th {\n",
              "        text-align: right;\n",
              "    }\n",
              "</style>\n",
              "<table border=\"1\" class=\"dataframe\">\n",
              "  <thead>\n",
              "    <tr style=\"text-align: right;\">\n",
              "      <th></th>\n",
              "      <th>Recency (months)</th>\n",
              "      <th>Frequency (times)</th>\n",
              "      <th>Monetary (c.c. blood)</th>\n",
              "      <th>Time (months)</th>\n",
              "      <th>whether he/she donated blood in March 2007</th>\n",
              "    </tr>\n",
              "  </thead>\n",
              "  <tbody>\n",
              "    <tr>\n",
              "      <th>0</th>\n",
              "      <td>2</td>\n",
              "      <td>50</td>\n",
              "      <td>12500</td>\n",
              "      <td>98</td>\n",
              "      <td>1</td>\n",
              "    </tr>\n",
              "    <tr>\n",
              "      <th>1</th>\n",
              "      <td>0</td>\n",
              "      <td>13</td>\n",
              "      <td>3250</td>\n",
              "      <td>28</td>\n",
              "      <td>1</td>\n",
              "    </tr>\n",
              "    <tr>\n",
              "      <th>2</th>\n",
              "      <td>1</td>\n",
              "      <td>16</td>\n",
              "      <td>4000</td>\n",
              "      <td>35</td>\n",
              "      <td>1</td>\n",
              "    </tr>\n",
              "    <tr>\n",
              "      <th>3</th>\n",
              "      <td>2</td>\n",
              "      <td>20</td>\n",
              "      <td>5000</td>\n",
              "      <td>45</td>\n",
              "      <td>1</td>\n",
              "    </tr>\n",
              "    <tr>\n",
              "      <th>4</th>\n",
              "      <td>1</td>\n",
              "      <td>24</td>\n",
              "      <td>6000</td>\n",
              "      <td>77</td>\n",
              "      <td>0</td>\n",
              "    </tr>\n",
              "  </tbody>\n",
              "</table>\n",
              "</div>\n",
              "      <button class=\"colab-df-convert\" onclick=\"convertToInteractive('df-2f6a24a6-a3b1-4e93-9807-11c74def3b77')\"\n",
              "              title=\"Convert this dataframe to an interactive table.\"\n",
              "              style=\"display:none;\">\n",
              "        \n",
              "  <svg xmlns=\"http://www.w3.org/2000/svg\" height=\"24px\"viewBox=\"0 0 24 24\"\n",
              "       width=\"24px\">\n",
              "    <path d=\"M0 0h24v24H0V0z\" fill=\"none\"/>\n",
              "    <path d=\"M18.56 5.44l.94 2.06.94-2.06 2.06-.94-2.06-.94-.94-2.06-.94 2.06-2.06.94zm-11 1L8.5 8.5l.94-2.06 2.06-.94-2.06-.94L8.5 2.5l-.94 2.06-2.06.94zm10 10l.94 2.06.94-2.06 2.06-.94-2.06-.94-.94-2.06-.94 2.06-2.06.94z\"/><path d=\"M17.41 7.96l-1.37-1.37c-.4-.4-.92-.59-1.43-.59-.52 0-1.04.2-1.43.59L10.3 9.45l-7.72 7.72c-.78.78-.78 2.05 0 2.83L4 21.41c.39.39.9.59 1.41.59.51 0 1.02-.2 1.41-.59l7.78-7.78 2.81-2.81c.8-.78.8-2.07 0-2.86zM5.41 20L4 18.59l7.72-7.72 1.47 1.35L5.41 20z\"/>\n",
              "  </svg>\n",
              "      </button>\n",
              "      \n",
              "  <style>\n",
              "    .colab-df-container {\n",
              "      display:flex;\n",
              "      flex-wrap:wrap;\n",
              "      gap: 12px;\n",
              "    }\n",
              "\n",
              "    .colab-df-convert {\n",
              "      background-color: #E8F0FE;\n",
              "      border: none;\n",
              "      border-radius: 50%;\n",
              "      cursor: pointer;\n",
              "      display: none;\n",
              "      fill: #1967D2;\n",
              "      height: 32px;\n",
              "      padding: 0 0 0 0;\n",
              "      width: 32px;\n",
              "    }\n",
              "\n",
              "    .colab-df-convert:hover {\n",
              "      background-color: #E2EBFA;\n",
              "      box-shadow: 0px 1px 2px rgba(60, 64, 67, 0.3), 0px 1px 3px 1px rgba(60, 64, 67, 0.15);\n",
              "      fill: #174EA6;\n",
              "    }\n",
              "\n",
              "    [theme=dark] .colab-df-convert {\n",
              "      background-color: #3B4455;\n",
              "      fill: #D2E3FC;\n",
              "    }\n",
              "\n",
              "    [theme=dark] .colab-df-convert:hover {\n",
              "      background-color: #434B5C;\n",
              "      box-shadow: 0px 1px 3px 1px rgba(0, 0, 0, 0.15);\n",
              "      filter: drop-shadow(0px 1px 2px rgba(0, 0, 0, 0.3));\n",
              "      fill: #FFFFFF;\n",
              "    }\n",
              "  </style>\n",
              "\n",
              "      <script>\n",
              "        const buttonEl =\n",
              "          document.querySelector('#df-2f6a24a6-a3b1-4e93-9807-11c74def3b77 button.colab-df-convert');\n",
              "        buttonEl.style.display =\n",
              "          google.colab.kernel.accessAllowed ? 'block' : 'none';\n",
              "\n",
              "        async function convertToInteractive(key) {\n",
              "          const element = document.querySelector('#df-2f6a24a6-a3b1-4e93-9807-11c74def3b77');\n",
              "          const dataTable =\n",
              "            await google.colab.kernel.invokeFunction('convertToInteractive',\n",
              "                                                     [key], {});\n",
              "          if (!dataTable) return;\n",
              "\n",
              "          const docLinkHtml = 'Like what you see? Visit the ' +\n",
              "            '<a target=\"_blank\" href=https://colab.research.google.com/notebooks/data_table.ipynb>data table notebook</a>'\n",
              "            + ' to learn more about interactive tables.';\n",
              "          element.innerHTML = '';\n",
              "          dataTable['output_type'] = 'display_data';\n",
              "          await google.colab.output.renderOutput(dataTable, element);\n",
              "          const docLink = document.createElement('div');\n",
              "          docLink.innerHTML = docLinkHtml;\n",
              "          element.appendChild(docLink);\n",
              "        }\n",
              "      </script>\n",
              "    </div>\n",
              "  </div>\n",
              "  "
            ]
          },
          "metadata": {},
          "execution_count": 3
        }
      ]
    },
    {
      "cell_type": "code",
      "source": [
        "from google.colab import drive\n",
        "drive.mount('/content/drive')"
      ],
      "metadata": {
        "colab": {
          "base_uri": "https://localhost:8080/"
        },
        "id": "gfsEHJA2d7VD",
        "outputId": "15f9ac3b-a8cf-41ed-e3c5-4aa6e356c07c"
      },
      "execution_count": 5,
      "outputs": [
        {
          "output_type": "stream",
          "name": "stdout",
          "text": [
            "Drive already mounted at /content/drive; to attempt to forcibly remount, call drive.mount(\"/content/drive\", force_remount=True).\n"
          ]
        }
      ]
    },
    {
      "cell_type": "markdown",
      "source": [
        "\n",
        "**3. Inspecting transfusion DataFrame**\n",
        "\n"
      ],
      "metadata": {
        "id": "ylOUFaAycnpV"
      }
    },
    {
      "cell_type": "code",
      "source": [
        "df.info()"
      ],
      "metadata": {
        "colab": {
          "base_uri": "https://localhost:8080/"
        },
        "id": "EnyL57FMcRK8",
        "outputId": "cbf4fd7b-9de0-42ce-bf0e-3091dc5a77d1"
      },
      "execution_count": 6,
      "outputs": [
        {
          "output_type": "stream",
          "name": "stdout",
          "text": [
            "<class 'pandas.core.frame.DataFrame'>\n",
            "RangeIndex: 748 entries, 0 to 747\n",
            "Data columns (total 5 columns):\n",
            " #   Column                                      Non-Null Count  Dtype\n",
            "---  ------                                      --------------  -----\n",
            " 0   Recency (months)                            748 non-null    int64\n",
            " 1   Frequency (times)                           748 non-null    int64\n",
            " 2   Monetary (c.c. blood)                       748 non-null    int64\n",
            " 3   Time (months)                               748 non-null    int64\n",
            " 4   whether he/she donated blood in March 2007  748 non-null    int64\n",
            "dtypes: int64(5)\n",
            "memory usage: 29.3 KB\n"
          ]
        }
      ]
    },
    {
      "cell_type": "markdown",
      "source": [
        "**4. Creating target column**\n",
        "\n"
      ],
      "metadata": {
        "id": "1b2Xo1-GiC3W"
      }
    },
    {
      "cell_type": "code",
      "source": [
        "#rename target column\n",
        "\n",
        "df.rename(\n",
        "    columns={'whether he/she donated blood in March 2007':'target'},inplace=True\n",
        ")\n",
        "df.head()"
      ],
      "metadata": {
        "colab": {
          "base_uri": "https://localhost:8080/",
          "height": 206
        },
        "id": "_AmYRAJlh3dk",
        "outputId": "f8702b21-ac87-4f18-d132-08972ca19711"
      },
      "execution_count": 7,
      "outputs": [
        {
          "output_type": "execute_result",
          "data": {
            "text/plain": [
              "   Recency (months)  Frequency (times)  Monetary (c.c. blood)  Time (months)  \\\n",
              "0                 2                 50                  12500             98   \n",
              "1                 0                 13                   3250             28   \n",
              "2                 1                 16                   4000             35   \n",
              "3                 2                 20                   5000             45   \n",
              "4                 1                 24                   6000             77   \n",
              "\n",
              "   target  \n",
              "0       1  \n",
              "1       1  \n",
              "2       1  \n",
              "3       1  \n",
              "4       0  "
            ],
            "text/html": [
              "\n",
              "  <div id=\"df-4648399c-adab-4e5e-ac7c-df3f944faa82\">\n",
              "    <div class=\"colab-df-container\">\n",
              "      <div>\n",
              "<style scoped>\n",
              "    .dataframe tbody tr th:only-of-type {\n",
              "        vertical-align: middle;\n",
              "    }\n",
              "\n",
              "    .dataframe tbody tr th {\n",
              "        vertical-align: top;\n",
              "    }\n",
              "\n",
              "    .dataframe thead th {\n",
              "        text-align: right;\n",
              "    }\n",
              "</style>\n",
              "<table border=\"1\" class=\"dataframe\">\n",
              "  <thead>\n",
              "    <tr style=\"text-align: right;\">\n",
              "      <th></th>\n",
              "      <th>Recency (months)</th>\n",
              "      <th>Frequency (times)</th>\n",
              "      <th>Monetary (c.c. blood)</th>\n",
              "      <th>Time (months)</th>\n",
              "      <th>target</th>\n",
              "    </tr>\n",
              "  </thead>\n",
              "  <tbody>\n",
              "    <tr>\n",
              "      <th>0</th>\n",
              "      <td>2</td>\n",
              "      <td>50</td>\n",
              "      <td>12500</td>\n",
              "      <td>98</td>\n",
              "      <td>1</td>\n",
              "    </tr>\n",
              "    <tr>\n",
              "      <th>1</th>\n",
              "      <td>0</td>\n",
              "      <td>13</td>\n",
              "      <td>3250</td>\n",
              "      <td>28</td>\n",
              "      <td>1</td>\n",
              "    </tr>\n",
              "    <tr>\n",
              "      <th>2</th>\n",
              "      <td>1</td>\n",
              "      <td>16</td>\n",
              "      <td>4000</td>\n",
              "      <td>35</td>\n",
              "      <td>1</td>\n",
              "    </tr>\n",
              "    <tr>\n",
              "      <th>3</th>\n",
              "      <td>2</td>\n",
              "      <td>20</td>\n",
              "      <td>5000</td>\n",
              "      <td>45</td>\n",
              "      <td>1</td>\n",
              "    </tr>\n",
              "    <tr>\n",
              "      <th>4</th>\n",
              "      <td>1</td>\n",
              "      <td>24</td>\n",
              "      <td>6000</td>\n",
              "      <td>77</td>\n",
              "      <td>0</td>\n",
              "    </tr>\n",
              "  </tbody>\n",
              "</table>\n",
              "</div>\n",
              "      <button class=\"colab-df-convert\" onclick=\"convertToInteractive('df-4648399c-adab-4e5e-ac7c-df3f944faa82')\"\n",
              "              title=\"Convert this dataframe to an interactive table.\"\n",
              "              style=\"display:none;\">\n",
              "        \n",
              "  <svg xmlns=\"http://www.w3.org/2000/svg\" height=\"24px\"viewBox=\"0 0 24 24\"\n",
              "       width=\"24px\">\n",
              "    <path d=\"M0 0h24v24H0V0z\" fill=\"none\"/>\n",
              "    <path d=\"M18.56 5.44l.94 2.06.94-2.06 2.06-.94-2.06-.94-.94-2.06-.94 2.06-2.06.94zm-11 1L8.5 8.5l.94-2.06 2.06-.94-2.06-.94L8.5 2.5l-.94 2.06-2.06.94zm10 10l.94 2.06.94-2.06 2.06-.94-2.06-.94-.94-2.06-.94 2.06-2.06.94z\"/><path d=\"M17.41 7.96l-1.37-1.37c-.4-.4-.92-.59-1.43-.59-.52 0-1.04.2-1.43.59L10.3 9.45l-7.72 7.72c-.78.78-.78 2.05 0 2.83L4 21.41c.39.39.9.59 1.41.59.51 0 1.02-.2 1.41-.59l7.78-7.78 2.81-2.81c.8-.78.8-2.07 0-2.86zM5.41 20L4 18.59l7.72-7.72 1.47 1.35L5.41 20z\"/>\n",
              "  </svg>\n",
              "      </button>\n",
              "      \n",
              "  <style>\n",
              "    .colab-df-container {\n",
              "      display:flex;\n",
              "      flex-wrap:wrap;\n",
              "      gap: 12px;\n",
              "    }\n",
              "\n",
              "    .colab-df-convert {\n",
              "      background-color: #E8F0FE;\n",
              "      border: none;\n",
              "      border-radius: 50%;\n",
              "      cursor: pointer;\n",
              "      display: none;\n",
              "      fill: #1967D2;\n",
              "      height: 32px;\n",
              "      padding: 0 0 0 0;\n",
              "      width: 32px;\n",
              "    }\n",
              "\n",
              "    .colab-df-convert:hover {\n",
              "      background-color: #E2EBFA;\n",
              "      box-shadow: 0px 1px 2px rgba(60, 64, 67, 0.3), 0px 1px 3px 1px rgba(60, 64, 67, 0.15);\n",
              "      fill: #174EA6;\n",
              "    }\n",
              "\n",
              "    [theme=dark] .colab-df-convert {\n",
              "      background-color: #3B4455;\n",
              "      fill: #D2E3FC;\n",
              "    }\n",
              "\n",
              "    [theme=dark] .colab-df-convert:hover {\n",
              "      background-color: #434B5C;\n",
              "      box-shadow: 0px 1px 3px 1px rgba(0, 0, 0, 0.15);\n",
              "      filter: drop-shadow(0px 1px 2px rgba(0, 0, 0, 0.3));\n",
              "      fill: #FFFFFF;\n",
              "    }\n",
              "  </style>\n",
              "\n",
              "      <script>\n",
              "        const buttonEl =\n",
              "          document.querySelector('#df-4648399c-adab-4e5e-ac7c-df3f944faa82 button.colab-df-convert');\n",
              "        buttonEl.style.display =\n",
              "          google.colab.kernel.accessAllowed ? 'block' : 'none';\n",
              "\n",
              "        async function convertToInteractive(key) {\n",
              "          const element = document.querySelector('#df-4648399c-adab-4e5e-ac7c-df3f944faa82');\n",
              "          const dataTable =\n",
              "            await google.colab.kernel.invokeFunction('convertToInteractive',\n",
              "                                                     [key], {});\n",
              "          if (!dataTable) return;\n",
              "\n",
              "          const docLinkHtml = 'Like what you see? Visit the ' +\n",
              "            '<a target=\"_blank\" href=https://colab.research.google.com/notebooks/data_table.ipynb>data table notebook</a>'\n",
              "            + ' to learn more about interactive tables.';\n",
              "          element.innerHTML = '';\n",
              "          dataTable['output_type'] = 'display_data';\n",
              "          await google.colab.output.renderOutput(dataTable, element);\n",
              "          const docLink = document.createElement('div');\n",
              "          docLink.innerHTML = docLinkHtml;\n",
              "          element.appendChild(docLink);\n",
              "        }\n",
              "      </script>\n",
              "    </div>\n",
              "  </div>\n",
              "  "
            ]
          },
          "metadata": {},
          "execution_count": 7
        }
      ]
    },
    {
      "cell_type": "markdown",
      "source": [
        "\n",
        "**5. Checking target incidence**\n"
      ],
      "metadata": {
        "id": "-pp31ZQQffbV"
      }
    },
    {
      "cell_type": "code",
      "source": [
        "# print target incidence proportions\n",
        "# count the number of people who donated and not donated\n",
        "df['target'].value_counts()\n"
      ],
      "metadata": {
        "colab": {
          "base_uri": "https://localhost:8080/"
        },
        "id": "_ykEhAJIfbyo",
        "outputId": "4488d845-fab0-4d64-d895-d36811e05a47"
      },
      "execution_count": 8,
      "outputs": [
        {
          "output_type": "execute_result",
          "data": {
            "text/plain": [
              "0    570\n",
              "1    178\n",
              "Name: target, dtype: int64"
            ]
          },
          "metadata": {},
          "execution_count": 8
        }
      ]
    },
    {
      "cell_type": "markdown",
      "source": [
        "\n",
        "> this dataset is imbalanced\n",
        "\n"
      ],
      "metadata": {
        "id": "QdxjA5N5GTGZ"
      }
    },
    {
      "cell_type": "code",
      "source": [
        "df.target.value_counts(normalize=True).round(3)"
      ],
      "metadata": {
        "colab": {
          "base_uri": "https://localhost:8080/"
        },
        "id": "LbGJNbwmiIz2",
        "outputId": "747eca2c-3479-4ffe-bf20-2cca0989da08"
      },
      "execution_count": 9,
      "outputs": [
        {
          "output_type": "execute_result",
          "data": {
            "text/plain": [
              "0    0.762\n",
              "1    0.238\n",
              "Name: target, dtype: float64"
            ]
          },
          "metadata": {},
          "execution_count": 9
        }
      ]
    },
    {
      "cell_type": "markdown",
      "source": [
        " **6. Splitting transfusion into train and test datasets**"
      ],
      "metadata": {
        "id": "s-iOENgaYg40"
      }
    },
    {
      "cell_type": "markdown",
      "source": [
        "The scikit learn train test split function enables us to split a dataset into training data and test data.\n",
        "\n",
        "\n",
        "![train-test-split_simple-visual-example_v2-768x416.webp](data:image/webp;base64,UklGRronAABXRUJQVlA4IK4nAADQ6ACdASoAA6ABPm0ylUikIqIhIlKa+IANiWlu+Fw6FRfIQZ9a0zvOOIHQQjC/2TFrnykL/t/7k2/b5DyHHxP916pNuL42Xqv9Ed6TPrS71J+5HpEast5T/u349+E/9p/Jvz3/Hvn37b+RX9r/8nN7658zv5B9g/wH9o/cL+5fQD9x/0v+A8f/lZ/X+oL+P/yv+7fmN/euGD17zBfWv6P/oP8D/hf/b/l/h1+W/1X6eexn6B/iv+B7gH8l/oX+7/v/s34AX4b/oewL/PP8b/5P9F+XnyK/73+q/Nr3Dfof+o/8P+o+Az+b/2z/kfdD4HPR1/dAkG1jGtZPvWWZ6yzPWWZ6yzPWWZ6yzPWWZ6yzPWWZ6yzPWWZ6yzPWWZ6ywrmI/lqcM7LYXAf3jSY1rJ96yzPWWZ6yzPWWZ6yzOz3BHs1z0bXcGasJvSGQNTNbg/dwYkg3eVwYgddGPV0uIFy3YwhvSWq3f+rt/x6n1I0TTWPQ4Ub75Cv2xjHmxS6AqzC8BXQUrJerrc/XDgyAMdIIG5hfnkJ4+l8kyj5G7KkKwqRIRKM2cxRbKxt4m/YxrWT71lhhQ8nuES/8biPDbnZJUylrPcagahoL84IEhWzxYjmfcdhgZXW8jQRyAtFb2gBYpv0mbjQIVmaxgHlL3ZAuTLZ4tUiLMKKonAA8UFwpEbtdKEkSLDQOrxcW9OzGA4e6AkyIYIWSYjBxrWT71lmessYyXie6WK2kpoekl7RHoIdMGn3OeX1Xrwz0kSJ5Y2vHHs4lMkcZWhenI0UV5B51IK/LAEE/yfYk9QCScOMfX7kL4N0rteAdua5N+xjWsmkDDDh4QLS0DA2scqmC5n+M6tPf0WFwkGIz/O8ASTb0MLMjLx34VPvbEKzx1dJfcS+PEEUdMay9Tmouu2YCKIvge4cU+k6UQRGcP81Q64fiBgoUndWWYdViVCNe/Upg/J+PsYxhtSgxoFcjDqbOBbrALrwAbJ7K0pGifd88q5N+xi+XtGEqJ9vi45FomWqs6b8q6+1mQSWi4gILibXnPa80DGjf2h149U44HdGPU9m5k/3aoh4DHyl40NsOfY47dTYHRNBHzB36fDJzA+QcX1BUikMZaLjLRcW331gxtALWiM1BQ4vgbg65+7ExzOpWIfoyG6wYiLsginlxAJf+kR0Q1+c95T/aBzJn4a5oBIknWTz1m1jGtZPpauoBKie/fJQ9rD3i1iJ9A5nyC/JUWT6tp1CDjN1fLOukV5louMtFxbfappXhQ0gQAkaFU4laQcrXGlSZS9zl60WJqPsQ7gISJMDDM5Y6l6LHIEgLHlCUmJW1dDV4JdsBLtfvjZ3RubLjEhEcq5moHxxXVzQx2hTDioD2JRuZnLe1nXR1rHrmGu7k+fpF+t2RyZarxubn/uV+yPf3OWA8CD2vZu6c0UmomOulZPFYQYMNrQacDOfg1ByrFc+H/a78iSA4eUw5ZxckgG1R3y5zv++QH+cvLJwIPoVZwKxnUXkmVgVTT84HPuLmK7dwul+LT5+0QgQ78x1Xh5O7MH6dGRBNO91gpVRPYqZUYTg+NA0dE9JiFY8sCWidlWs0bWDNPiRSWGnmXQhvR6X5zmQV2MqKn3oEY+Grg+7a+w/cvABozyJkXcFhhu8oqD9cMxpO6fPKRRsnSy+WUx+NL2g8TMttLfzNikSxig6H+NTeLiTkjCazG5BFznKmSMtFxlouMwQ367AcPhnRtgWK6Bt8g2Y7D3sHT6br6OAvi98sHseZN+xjWsn3rLM9ZZnrNW2AgOIpzUnR9KDagSqifAS7YCXbAS6okK0/SvsoNAOUwUIDN90j47dO5GxQu/b/3xOrL2FGygoEyo6iBb0/uF5K0fK+Z5Rt064Psni+EeHmJ9W2ctOByrcHyyq/pUJ88q5N+xjWsTUney6HcuPThLymWCjbyWFsmHP88iydhTXzkofLYrGKLXeSzsggHY/NrhNl2plhhS2GKnUA8vR9LVrD66stavq90cuZ6yzPWQ9+w7pOTCQVsYKCJqXURhJnKDmGkcZeqPdbVHT+pkN3OyPij5Ku/Sbcf03tG9fJ1+IqgJWK3QJVx+HmsgLMoLgIOeZWv/bDhOTH9k5d4hr3lsLjLRcZUbV0a9/TwhSzHtnUgZHTII7VZy4zhDhSXmkCOidh02HGaGbRfQb+ToeIdsqtp57jpHBqep6B3m4P71lmessz1lmessz1lmepRTxmXF2QRp6ISk0O7/Dt0qjrMnRd3bgnJ9XQLkWm6WY/yqGdF4me9JE1jGtZPvWWZ6yzPWWZ6yxiLVYfGEuFETH18PxrWT71lmessz1lmessz1KG4252l0rJ4vlr8yosJJzt+yeJ4pePvBsLjLRcZaLjLRcZaLjLRb7DMlq1h9fEIYBubLmessz1lmessz1lmesszty9wh9WvJzgQYzXAleuGItpEMCrAyDYGRYhi9+h6HVlmessz1lmessz1lmessz1lmessz15Pa+4AAD+/yoAAAAAckFMpXHrESvw173erUi8dpSMUVPB6wkfaoM2f6yUIlyXYCa+B0jRqRG91pNe56Vlb+Km6Y98mCA1bjuX3pgBLRfvAjIg0Pw1Qm5ZBZnfGJEl3y3gjLKF+xTv/mEDZ59+Nnf2lqTDVERAc/mdsImjlq1+AmHbhxIc7E2L5fnVkFvKpEMdTNWvGMM88O4e1T71yzi3DeVDDOLnV4ZRdRaqHbe4lI8yDB311VSmmqnmlW/UO3TlIul3mexVNS5HNK7+xPD9rY7r4ML7lVDu/PsAV2SHYCPFpqDW8sLaHje3U5o5ZLhMZMqZl2aWGYibsGfMGgEWq2ElS1medAkDpt6bu815x8O+FHzOpPjTVdiFLQVIoBqDRtgH0Xl8ed/9tpigQQ0joIJfWGpPPo/yTSfgPg5ieGvQEKQUEshX8uPxRu1gGMO+iYuxBwlCwt8krVviijWYTcNpPUfsVcBFGb+WOQuLvVpn9jd2Vry0Z3Gw3uwRa3TwqXaTA4iAK8LdLq2/MTLs9+Y8c7zfUWWRo6p4TK4B52ENpAKRDd8CPnwZjzrjQ+kfqXkSMy6ssciJIvL09LTwrm8iCv5Mk8Gh/Pni1k116PoKF1doKM7sMfY0maDy8y+cEW0wV5wj00TU0Db+htUqWmEi/1E0EL2klp03Oas3o19T+a1euyWZGS65mK2AMDzasUoXGzlXtSq3iFMq7QhDgEECrNUXSmvJe/JjupC4ZfLldDbV8ustKql/wrA5vNBB5ZJ6JGbKF0LDGSbqOULKDLqGMSFx/pxSx1VuBwNVs7nSfsWgTCAp956xyiJKMP/y4Rrv7Z/Ty9qB54wk9ojC1Cpera/QHr6Nim4iTNgF64fB6c1Pmq3V5/ifuK+c23T6w9fZbQEYoa0/p6GMxd95EOdSLxG18GGr662b8LpfjQLFoszCth5PfrNwMRj8X0NmvygHmK04IpIYt3mmQv8e9Sxy83ltj5DCrOguAi3f9d0h7GF7+YWCCe9Tt8+TSpPqW94WUNA40USEwPxe9ZKEgxTAv1UeyzPQcIpFPVSyTLxGlo277Kp/zTQNJSbnk0sHN8lQNl03zNKasikMocWKyfx3/IP10VYEJxLKRvBkuAINTED1xmatjmrE2oX2+DZl8J9fMZ7+iM9EKgglNlDudNwLLC1ouE3miV9nekOlvmbfUDa192c3OEFmRtENCkHyLBpA7o+PdTWRHOXXx7Kn/FdgCC14Av0qD9Akj1wV1pQv29uJj3pWyHBmn5y1SVjm4/0m3xbsRi5KCBx/5WZcZo8aiS6dkkeve/s7ZtLHCVwtB8Ln0Fdq3EuUYMaFncpMwOpYlHGo6aIbd2F8YW3MsWPqcUK63u8nUYX39yrmFyzo87JjJJVH8vsRF4pOIbKftCl8vq+9k+uaSiLPLc/0xKAclPT2EP+Chl8jJ6WEn9VKffxU3THvkwjZaUdZqnZ7bKoiVH1sWI+aRt+BG5MBHQkN+rE8jjRw5eUaihYKeEcnMQ3lUD4qHjTqU+yW4am+3HN6iyDtCblfj4uKt5DuvOBOcVPEGUZ0KE+6SycVqrM9wAvkxD4SfSP4vGrlDjYHHblFd4p/RabQ8mVbLkLN/tbZpuch9TmZjel3Pj4W4XEgOCQvXFpgA3BP5gC1AZkQ5o4YVxYGnVSAleEEqm54aKm3fC1AG7YX86W91e0ypIN3DM5D+sd5qvRD5zK6MedfSpdjTtwfv0G2c6tmsmLl0uWUfEmXoI7ceTnSla/gG5IM2OsaghSuc4+E2AAmK0hNlVhNG9uRPgdWdAQQd478R0G7hlzx7XnYe8V0WUjhO6Hke5+jwGRZHvDk0Jw6ZxBII81q8h9BCVKitPPhVRWZfj4L99Gd+YL5dVp334AEeWv3DomIlK07wIzWqdLF/JgXNyVReppZIRkQzUC1dHAVs5W/Eu9DVhHwFsIVw9RpL8ZVXN6ssEkptl1/n+bN237bB3OkNoMs8uq/xhd3E3+M0/NxkmVlseAFUUCmYzAseMRSKNigEmxRf9Q7lQ7x9z0WLm5qtbce3XDWumw945K/FLBYTFiH60VmV1PCpamhHS+aKnMjso9OMytIZtanuF53VnGwIKRtM4fXye004vlHZT6NpMZP+QWBq5Zrof82igU8Z9KaHYbhtqyWkvHOQKNeBY+6RO4BHtPA/LZ/xkhrmXsVj2GKl9wNmszfsiL+4aNR8FphXPo/nXXvse/eb3hPODBU9145QzodzM1z0lKT3XzOt/6P8m+fK4eZXeYSBcQDBFmj7Wkt8xFP1SDgCXbVsaF3Op41eCfGdOzo9T414fesx41pY8Vhovg6rbofeRBGt1LSUKTFfhypEyPn/f23gV/9TMfK4GrPJYfZciyJ58ECb/HPnsI/O9ROziKNbeiyOf7tALsshLfx3QvBrtndfUBIlLb4crStoETirnL4/tfU5K3RTEiYJ46v6oiTEVd8zjnkE74SBJy4WUfkbFvv19YCfXAzvDNcSijojOWVqS6RLzD7y/2IJUTDFms62G5ueOwmY5iPdg8P7v9X9ci4yCoERe/Td82aGPYw2egV5jBz8oOoWGn01WlTO2z2EQbdBiX1QSPagYDPq2zkwXchWhKStfeodXHECM5fk2YY9a3opRVpHvsEZWtbfaBFGqNvXwXbWyUFRotgQZHEvxM49ZsrGlahXXaXGjyCgFyWhYaL4QKsj8fb72VX3cPv9X8PydkxaV8q8zNS4LN+X0F0f/LjeoOrZgWDrUlfHZ+Yh10S5ZAzN2/eMpIGpZhaxMYbhhnJOnJJO+5Nnd/syfYbXIVEa7aMC9jIobQjpa4lsREFQYZ36RZQwFawrC/SRUdECsSwCZpDkeNoX2lSQ4kkG2OoWCVj4fC2ogXKKaksRsy2rxt6WlkcvKfrZ1hodl2+WXKyVMC3dGrYT4VS4yzwXwyE9ogWy5aO/lPeF8/5B9nAArH50mkvh6atu6Ca/eB2DCs0j9Nn6YrN+65OYQZctHZs2K8PiUXIcX9D/c0epIz+DbRK7HSV6ebt/pZQ4babr4OjmrSLtQ0DL6ibrlYkaCxC1j1uXFrEc0EhoFaGY1lXXuqHq9Lcj0VCbXyaBYhdaWANBnz4WYcfdSqU97zyY474mcuXKKdEgg75rxW63Y+gZ7rXf6PAz3P0BiD1Xj4cabDp0AoEqltiVYA9J6JJ5TTMBoidxDpI4dEEQV8imhxDZ45kXgwXfqJlnpLP1RDnMnv+DY1ESt8JAGSsBUlHu/crLutKuSKufY1DG+YZ7lZd1Gj7GoY87ViTenOTNi1dpqfx58HU3wLF3QdPG/5Q/R7cQ4+iVskCte9ysu6Ustj8JrJB5pqeETKOOM2QJWRyL3NlSCBYKLDldHElhW5FMVcNZJfc5l6TN7FO1fFkQR2VEHoYbak4MRdCyAbx+2v7EBsv8SBFXFwrCrz2Dj78eMTt19oWI+IQzW2ZHcou+YZ1UABuz2qA6iu9f9tu7Qc/GqRQGg/QbG/z9t29W8NN6UHFV181JB0K+ouVC+duF/8C59jUtoxFQi/6bhcJEGRNgysPeH01UdLil+6UA8eQ6xTej5AJhjVRkmnjDPEoUoZgefPRXoQb1HFctP11CPKIbQdzoJcrInOOJUck3haZ7l8v0Gy/xpPtlEv2QVs1u5XgSzD+1GSD1TEB+7Ht07IVL/l2fIABgZRdIYvRCcBbtYszfHmOnm6tfZKQp1XAWltBDJCTCXqOaK4X1XKdt3Kes1vsgYXohX1xDO/eopXXzG7lSN0PrKWuuTrKr54WbqcQ+E9HNcQEYTWNuKNHvWHxrpJhWVn/CxahKzu2RldBiFPmhHCl4jQLZU7nikDTGao1fYA3OGJzCJj4t2Ok0a86DB8QsAArkHr4D6oEvZK+mUyDazaIp7sqHJddZzR4+mufE0BZTBZZMykTBynouQQ7mQx835QJ7EVVXCAVY4NxnoHfls8IagvdrdTsgHwuvsN9XaRaGCJmKo+HOcyj1VWQhDbw/5ilLtZdKfd/74z6MVmUSPkDa9HiBRLA5SZMQaV4nP0fTsl9H6KRpyEOgKmIoNtoRL03h4tpAwiu4ZgQ1n5WX+hyaGCrQLHtsRUel68eysdbN8D6zUUTPBuk413oHXapcK77eJYOmwKZek/tsChaUJisRX0fuiedGGow37knLeqoMDvvwouHnajAReXuHUf9hMOPNE0cIBn54YJnqyAvAABvSFDGXmxfWa57ZjKU3/t4/acLG2ncYJdiZEY6hgjvq7SLD+vIbmTe4V+TAm+Aq9MJ8r3jNVEcFg0hwOs5Dn1WTum7MkfS6MmIC8lbOliAOeexGTgo6a/k/UHEFo8XeTaWYNkq3TsNb4SBuQACTDjnC3/BbX/MhulwtGmzbuNPjg6qTDMM2B8DqUkUwS304q3AOFdoe3dK6Jvl5HSO/XInTNLh7YurhK40rKeRJlMdX6cyNRJUwBMfTircA4V2h8oI4ZtvQ800hax5wDEp4KvxeM2DakgQRwuV3UpvHqmiwf++LDlLlLxYz6MgEJBQDtuZAISCgHhgi7lcfg5817SrExeCSUOEpUsC9CbY2Ee/lVNHBDeI/6ZjFblrdwTgP0IkNcZEZz+++E7KeqsGizlU9G//qdINooPuHGeCXE3PMbDNrPy8/bOaMgfrmb3Uix728aPrhU+3X9FPoBcGq2TcAJhHstWsMDpUe/AjO2QkH+p2+by4W1YpRDR8uDvDt0BSXR3lr19DQJoxkV2W7xbhQLpQYgI/rCXlk4VwsH6Xm+kPT17OveViXT2UKGqkwR2Zyu75Z5Ik7BCC6F455G0vM/U5mdQYA3fjHZ71Q20PQHobQA0KJnfo9S0I33DhsIlD87CD8bQEmcnS6ZtlAcvWEOTQqLpdDzscl2Zd6ST9hekxxtYxCh01X7m4hfMX0BsFA2YZyDAIa8GL53kmuEtcMPlGOAy7yWOiRRw+D2M6aTCLHeQWvg7f0Cb6ltbrail9ki84ZAbyT3q1G9U92MOlWnvjFSYnf5lskGzwUCs9PdONTPOduRx50ur/bWq/wcVFybvLA74qzJgT5tSlbhR2QrooBQUuYluNYnC61mOznIhD2BeCRmNWjAEChcE2wp7XDNrgXdu+5Q3yrGTZL+V1qrfIRlhvab84uyPp6WWqVKKbmfy/+FRLlEO4ESCsgpZP60FD43V/SpqM+QTOI/dcIOlnTbhFdVFJYnFtx5MGNHBQnmO7HzZUhLXzcLHn5rbDDqDC81+8fnuwUXbQ3/PTJLLK4G7d0F6IVryjWcPx/M8gH7AeBQ3abn7BXSXBcTtNJmb/rMjQ7iCr3wOsxAzJ62T056UTdC/zX8qk3KJ7yvZ5rpiqm+LhLRbFGubIRONKG1ted0gVKwIarKgFhCMEegAADMvARr23TS7gBZf37AMKEYkAALIaEggK7x/q/ILZFW++p9azJrVkx+lpzZrfCG/3auMTgLraYRBAHa+tApL18nu8GjKTyQD4PYy9goJGWt3KtUPp4p+aKh3uSk5s1vhDf4B3YDpzysmZU0JFmV2APF7AdxIX1Mp48m3+sKrVy2JWm1n1c44/U4EliEGi7LUcKYLwEgjMaJfBGZ7WfVzjj5kzmTF8DQAUN5XC1F6oZUVxSK2brcNIUZol6uEao9wD9Vp3dSImcBdbTCIIA7X1ktIUVy30JUpQWSX3qq9Z0nEBny1gvCcXeLS/hSKheA1/81fPqG4qxiDEdqomIXHNB3TZUfGDYCdVEDr6LJyFqEfgKfaJjJSFaOAG7moz5ZDkvBzjtVHM2cIoLu7QhVXQ5Ku+8ssLD9CQeZuNUVsARIQjHwE94aqkjGH2qa8Jw1Xb507v9xRf1U++AkEFp4HJL6prHsHMYx1zqUveJzf0oyApJGpqs8nkNktKlMFGgGl7YrPX5RXmh57DxoHrBmbGNESfRcasj2K3uNp1jMEPusCr4xFIGQjQX8qSosATYOiaybnwmvDibaLdRva2Xsg9bz5TkzxmFKcZMFQ85ZftGXXlQ+iHN2zWgDL1iYnekYGTUUuQ+ZOqd20GKamuCV5KlFo7YXd/6wt7zdNakTOx+r3HtFepoCUtZ/gzdOjzi0ToIYoE2X4yfJHnyZwH7KmXr6CvxfEub5SRcNmB2OVQG3Ieh3RrPZrzQNLMR3G03t8xm1RgzXH2cKVFnaOniVal3qJKblbtIdurIhX6F7mhblJo3JWOTSz/yoHAXIq8fKDYpnvnKJVZuvhY77Y9stVyh64p80MYr55H/QukBumY9ICKFQgf/WVIlcPRPYZilgSlXouls/zL1f9nOhTdD/TtIZaXm+TwFz6cJSGVfKDBsvAt4FXiizH6jzEe0POuPcxWRP/xYmT+2fySVM0QYN0F0lSdRXLuGnJ/iMFBCCWk8RYqBxzRN8yt9o+6KR1cdOwhV57K7nY3CsAr4C8O4bsqD6d3k8sh+9YabsBDJCtRQpXi0rSUEteFAbwUSQ/jlojG5Ye0r9HpzJo69Boq403jKZ7KRYIljK+Ft5O7YguDE1vn+dm+v/jfBeZTjTA+c3BK9rYpQ7JhuA1EovDYOZauyaZZ6vlG9gfxXt5Irmocz7VYTs7tUY25NXEGrPqBxWICjV0XTcLTJwTxZ99NWJDYlAxeN8UrieVsQAG31r0EBTHaSk900e7PYaIMPHu0Vyg7HmR0UzYfeCNlmbhMdQhRxVyh7QLcWUXK4WNeMu7xsN2XS7aH1fU4AhuScFjlpr34I5Xs7mcAUEML15qVUhAFvqhJYTHfIqfoMywPfquVSm9v0zIdjtTZgiHUshTtL4JoDXxC9+xsygoM6wg8ZUPyr6uczDX3Pg+PamUlvN/jlUqwLVdWFo4FAN5w5hlJnScPSVugYJb5Adgl/Zi3qQwhMsR8kxflxVOxB2lcu3f1yXcnHnKBn/XXVW54Sb4D2XGJSEmuMwe7tl0U/6recvcdtLjK0h50OXO5ww5bCbmKGLFtUH7lgER0FomIrCxsjktC0flwY5Q4cDZpj5z2980UM7DM2DClFVwWzveKudsvIHmHPS0szBLtll//W+U+HXepYPCVOS6JsMUcfc/3Dwhc5DC2Y40xKAND1tPFh4zd0Dgw/eGJ+2zp9HNTD6p3+LN1Ofadzx78FbTy0sHMZwdSYTVpykQCzfv4gksNPk6OQggy8qTmREZmnz1Woxa1cGkJOaGO6YZ2FX1VhTVb013XoMBAK4wPG8Thb1RHLko4surk9tKybQ/iXDkVhEn2EThUeIp4AlA/3Af9NboqJ+mZxohQXVvAO1B46vOVbnQlcELWbtNYjxfgT/pHhOfYSlLNZo+eTsjzIe+UKEIAf7clCQAWbWKJKGRYwvLqbyJuBVGxwCRrwuBJ/fsi8TMef62wsjKCfqgU+EHNmdzyRQ4cN5zyLz6g8zq5xzox6qN6Xd5yWBK7m/DeXEqMza4GPQ6TJbtohC0V8xnquOFZxLwCoWHcM3iaHgXqszNOixuRiM1Ytbor5YYCLfKt6DuQrcDyVEFmlxCFS1XLwftMIFWxI5ooAU6FTp0dBoOCYLFaKh4D/b9CRUSShPpybuAGkq4nhUhfHMHwK7PjAXtTP54vvSQ18axavcPtgdK/dfwSX/k3zbg6uPyPOIAHhXxd2P/gsVe/kvDmxOjjaTP265r2bV24tRVS7QcvGTfswb9+o1Nwbvg92eXV6+ZvrhBQL8uMFBqFPApAGml0VHR/4wd++IsG3TQbLW6MpLNYy2JrV//zk96Bz3//OkTRhO7XEfMd3N5oTt5//Izl2v3P/fOeeUpfgHnRRwjwEbB2Nm6SWBANaVY6bgygGGWRNr8pwHh4htJmTAqyHK3IymjB54jECnJYv4bK+8dtEm4cR7gXDEa0Rl8MjVOd5PQunkxLDGhhXgbKwBAGZIj9BV7HoNMM79RFeBB+RMWkmOud76nOvk0XuJxGo5M0Th19TTCwgJPTkJh0BOEp27EJIA+kdUfsU+zC4bvCN3jUACDFsirffXmjeO0WU+R5aOq5NLrJSZjnpHXQC8to0ALTM20A8YAKWBBe3Neb9sisJsi9ZPBx9zKh7POlChEVxLEAAH+09KgCSLlfh67RjF62w742vdsUtBxfneiY2AxzR4uS2vhpNx8K1DJsYdDvCaNrKyi8K2AM3ObKuX/e/g9Tjw4mWZty8ya7BUzL4NKqwKUVgKLiTlL+vQDcr4DjxRzt/wf+j5CNsH3J3namRD7hapoFHHab9UvMc/6I2jx087zc3MCHAMiYpSs+RDUKuMwuQnnPw5N7RqVkrzdUGCCVSmSZLcnu14p2OGSAIjYEHPLZsjMUBQBorLY3cRzzWj3u2ZMyFHS3qH4ZVYUXMPfNpfxwQW4rxGgFfhlgZVtEeayVDByZ9vPkLu3CLi44jkK9VC/x/nByGpP9VWFSGGINRFPx2Nm8MvuaC/9t813fhTzRmzKoDFidt6LqU0q7R2nAgcR8iZQrnR6Iv7hqHx+TpkzmUgz8sL3i4dx88YBdF8pcU05ph6KbU2dSU/n2tBRY1RVR56PDFHxwaVrBfVReslReGpHDSyLdMF0SV4qXpfBt1i+SFfODb4uq2FI+ry3xdl+9PxiK+N4CKjifKpCqUl0li/1JziEm6zBwT5e8EPVVQYnHgasBM2ZdRmxMs7DMUqi5tL138D7kdhsy61Nhcmg9EsYKV6j++nz8gcFddgLj6LlAwrug0OIUqGMIjcy48aRMM/WK9JimEnSOsZEucsMOJSNF0Z6w8r96dWdhZILW5QqJalgYVt5sd97VDkEEdgYd5ApVXuirDhzjo2ZhqraYyZ+LjQYsD1ndpXm12cl54SiBV0K3ofd58ef3MyQ3ok2vfU7pFfJ00UB97GMB04ccIKhMroCtZ/s61VElgJhm6Qj+h8neMeXlh3/yVXzqicQumzUxP2KO3sLJ7HKxYcDI1DMm9Avh/UPBgwPvOWGfHJxv5lJ1YQZ/OkruV3CBfzUalpysqr/0phqPgtjoW9wkMzhP3ROWq0VBmwkQuy3H9u6amnFCt36vRgoyGsdkDpbmdNRU5obVoaL3dSaYi1T7Xl0qwkEQkJGT1EwqvnvMs51CALt2Kfz8ly0wtF7E8rH2/G1gxJVfaVkm2S7nD2OsGsKopxJ9VHv7gAowErXz/yjzdgutzJKaTYkwvw1na06LepORvwnRK7kqwJJkOppRrZTwAyb3b2O/6KJHGl6oV442OTH+prNbsksNcAjtnT9q8BA99hEvn/j+OBy9LY4iEOhRpZ2Pq7UHIP9BEfPVNYuB1yl1gi/Vmh2jv6b479PmADPD/qS7dd9EFSCabZAaR7nx3hKCv2JrBcI59EvZSlj2mnbxI+0TDH256PFhv/qRl+zBito46Lo0IfBqDuYCVu9ChLsizn/yMxrBqjyz25BqKCa0ARWMKCaBV0fBz5Zm7LlXQVRCruMKmALp/VLVG2vPHHWQsVpcrysDAxIDSKkFjpFIdPG0vl7t6tquAyHcOznzKSzqDAzyQ/AhxcmIZc4+ILlxUhaliYrr3lbqH+0YAmn5+/ZRguiapqMFDLp7FwgQ+2qbIKQ0MZWtzkfblateQ3+EldQwiaiUBYXrp022wFyBv7ePCl7bkWuah5oRZ/UIMyMM114Dqg2ad0MTxA39T+ITNeMPfAOo2W7sd9UgTGVEXid2Vm4umGUWTwxBEy8qNyHT+98j3bzTOfzdnQ8tL6676jVSMoIUACktDuK4hgcG0i5bmDcH9BngXD3/43mFJ8ck4qQ1985MyOyqGAX7QQrebwVWMbFEcC/KwpwWlbx1ciSR0q/1gwXjhYzQxUU6UnwhInykHEsqr3fQAqsQ96RLvZfOxvt5YCh76ikqXgyiBuVUwkDl+tdAsiYAQ54J6GKMIaE+z9iwr86vCWsW/xMjkJYFriLGzAOqaEG/PdbVq/l8aeHt8hMcqWWmnNe9crDTLaD9zZUuvpDktgzO+z7Da5CAmHd2L1EyC3tcK+11p7ed7YrXf2jUB5FHBCO2kzb13kxDMXdp5JX4m/AC6MxTbRh6C83yebSHc5T2X6mhmEMaMfENVh8XEpczqPWvq/saSKbZqZ+y51s/tHeuhDVhTHDLh0dAVybeOueJ8lM6rnuMYI+vhwRTjHHuQiyAAu09w4ZmC/+ax8FhPkxyxIZ3jN2DZHoVFd66zil5SqCC52wq8wHk5Qy4pf40jJFrTkA5E4KNGJv483pRKQcqfMHiClRAIwSxCtxtMJiPKUeAv5APggWcdwK68kCpEMaQNfLPV32HhM6NFSDyHYFsLXxmtrwIPy80Sox62jlf2Jw4OedT3vDgnaEX9RSNntJkKiiQ5Ugwsk85eoQtQSXsmHDdNzOmqmu5gdq4f4jDxnSS0UCvZ3eyif64ibTfIeULBmlRbBRePh8LARra5R9fI62t5jIH4pzE2xIYayW4V6GIAzKzwXe13KE4fhk305aTdMJVBVnbFDFeuRRiL8DRhu+BfwBvK0dFKTibQdY03C+V+ibYmdwWn3gYDNq5eHpxtSHyHmxi1wgfMmiFU+szztRRYLL7IwxH2DaJniyCrPsCOJsyBA040odoO2QCVAfiUC8qlfCyfZMlUb5u7fIj7G/REzqoTUc+3FaErZQksHPALgAYfainB45oFR96RTycJJvTUErEkL+0QXnozARV5jtd9cKqv1yFceiQCuj7sV0p3fnXl3MX6FjXaJ2nmMAjDigsj1ojDZcuz5y87uCfrrULXDgbKRUmM3ljwtk5PqSgWKl6T6qcjU6pd2XN0m7thnyX/E+ludNqrZwkIYg6u6TjDNpEmc9Z458SzIlBptR/L6zCjOTj9O8Mfkf0TcSP6HAAwJwQcugAD/NDdq59EWsPmEp85AISKG3i9i8Fco+ysMoXxXwIjJh6/FuX0H2ec+ltLQjjV9tXnSo7tP6EVAiJkFPE9nrn0WVAABsEV0xYMEvQBuhrSnuG2BQhtEuYCqORfyWuXoxhbVYTgVZVu/QlFam9xS0cRtEWUapHuHN+jVlv/Zk49fJjNZhGwS87gNy9Y/ISwAAAAAA=)\n",
        "\n",
        "\n",
        "\n",
        "\n",
        "\n",
        "\n"
      ],
      "metadata": {
        "id": "QLp1Ugu1bnp2"
      }
    },
    {
      "cell_type": "code",
      "source": [
        "#import train_test_split method\n",
        "from sklearn.model_selection import train_test_split\n",
        "\n",
        "# we divided the dataset into two : x_train , x_test , y_train, y_test\n",
        "X_train , X_test , y_train, y_test = train_test_split(\n",
        "    \n",
        "    df.drop(columns='target'),\n",
        "    df.target,\n",
        "    test_size=0.25,\n",
        "    random_state=42,\n",
        "    stratify=df.target\n",
        ")\n",
        "\n",
        "X_train.head()"
      ],
      "metadata": {
        "colab": {
          "base_uri": "https://localhost:8080/",
          "height": 206
        },
        "id": "g1K3duQYim7o",
        "outputId": "cf182557-d97d-45a6-d5a6-5d809b574d1b"
      },
      "execution_count": 10,
      "outputs": [
        {
          "output_type": "execute_result",
          "data": {
            "text/plain": [
              "     Recency (months)  Frequency (times)  Monetary (c.c. blood)  Time (months)\n",
              "334                16                  2                    500             16\n",
              "99                  5                  7                   1750             26\n",
              "116                 2                  7                   1750             46\n",
              "661                16                  2                    500             16\n",
              "154                 2                  1                    250              2"
            ],
            "text/html": [
              "\n",
              "  <div id=\"df-c35df69a-23db-4fcc-8e75-1af7b9be18ff\">\n",
              "    <div class=\"colab-df-container\">\n",
              "      <div>\n",
              "<style scoped>\n",
              "    .dataframe tbody tr th:only-of-type {\n",
              "        vertical-align: middle;\n",
              "    }\n",
              "\n",
              "    .dataframe tbody tr th {\n",
              "        vertical-align: top;\n",
              "    }\n",
              "\n",
              "    .dataframe thead th {\n",
              "        text-align: right;\n",
              "    }\n",
              "</style>\n",
              "<table border=\"1\" class=\"dataframe\">\n",
              "  <thead>\n",
              "    <tr style=\"text-align: right;\">\n",
              "      <th></th>\n",
              "      <th>Recency (months)</th>\n",
              "      <th>Frequency (times)</th>\n",
              "      <th>Monetary (c.c. blood)</th>\n",
              "      <th>Time (months)</th>\n",
              "    </tr>\n",
              "  </thead>\n",
              "  <tbody>\n",
              "    <tr>\n",
              "      <th>334</th>\n",
              "      <td>16</td>\n",
              "      <td>2</td>\n",
              "      <td>500</td>\n",
              "      <td>16</td>\n",
              "    </tr>\n",
              "    <tr>\n",
              "      <th>99</th>\n",
              "      <td>5</td>\n",
              "      <td>7</td>\n",
              "      <td>1750</td>\n",
              "      <td>26</td>\n",
              "    </tr>\n",
              "    <tr>\n",
              "      <th>116</th>\n",
              "      <td>2</td>\n",
              "      <td>7</td>\n",
              "      <td>1750</td>\n",
              "      <td>46</td>\n",
              "    </tr>\n",
              "    <tr>\n",
              "      <th>661</th>\n",
              "      <td>16</td>\n",
              "      <td>2</td>\n",
              "      <td>500</td>\n",
              "      <td>16</td>\n",
              "    </tr>\n",
              "    <tr>\n",
              "      <th>154</th>\n",
              "      <td>2</td>\n",
              "      <td>1</td>\n",
              "      <td>250</td>\n",
              "      <td>2</td>\n",
              "    </tr>\n",
              "  </tbody>\n",
              "</table>\n",
              "</div>\n",
              "      <button class=\"colab-df-convert\" onclick=\"convertToInteractive('df-c35df69a-23db-4fcc-8e75-1af7b9be18ff')\"\n",
              "              title=\"Convert this dataframe to an interactive table.\"\n",
              "              style=\"display:none;\">\n",
              "        \n",
              "  <svg xmlns=\"http://www.w3.org/2000/svg\" height=\"24px\"viewBox=\"0 0 24 24\"\n",
              "       width=\"24px\">\n",
              "    <path d=\"M0 0h24v24H0V0z\" fill=\"none\"/>\n",
              "    <path d=\"M18.56 5.44l.94 2.06.94-2.06 2.06-.94-2.06-.94-.94-2.06-.94 2.06-2.06.94zm-11 1L8.5 8.5l.94-2.06 2.06-.94-2.06-.94L8.5 2.5l-.94 2.06-2.06.94zm10 10l.94 2.06.94-2.06 2.06-.94-2.06-.94-.94-2.06-.94 2.06-2.06.94z\"/><path d=\"M17.41 7.96l-1.37-1.37c-.4-.4-.92-.59-1.43-.59-.52 0-1.04.2-1.43.59L10.3 9.45l-7.72 7.72c-.78.78-.78 2.05 0 2.83L4 21.41c.39.39.9.59 1.41.59.51 0 1.02-.2 1.41-.59l7.78-7.78 2.81-2.81c.8-.78.8-2.07 0-2.86zM5.41 20L4 18.59l7.72-7.72 1.47 1.35L5.41 20z\"/>\n",
              "  </svg>\n",
              "      </button>\n",
              "      \n",
              "  <style>\n",
              "    .colab-df-container {\n",
              "      display:flex;\n",
              "      flex-wrap:wrap;\n",
              "      gap: 12px;\n",
              "    }\n",
              "\n",
              "    .colab-df-convert {\n",
              "      background-color: #E8F0FE;\n",
              "      border: none;\n",
              "      border-radius: 50%;\n",
              "      cursor: pointer;\n",
              "      display: none;\n",
              "      fill: #1967D2;\n",
              "      height: 32px;\n",
              "      padding: 0 0 0 0;\n",
              "      width: 32px;\n",
              "    }\n",
              "\n",
              "    .colab-df-convert:hover {\n",
              "      background-color: #E2EBFA;\n",
              "      box-shadow: 0px 1px 2px rgba(60, 64, 67, 0.3), 0px 1px 3px 1px rgba(60, 64, 67, 0.15);\n",
              "      fill: #174EA6;\n",
              "    }\n",
              "\n",
              "    [theme=dark] .colab-df-convert {\n",
              "      background-color: #3B4455;\n",
              "      fill: #D2E3FC;\n",
              "    }\n",
              "\n",
              "    [theme=dark] .colab-df-convert:hover {\n",
              "      background-color: #434B5C;\n",
              "      box-shadow: 0px 1px 3px 1px rgba(0, 0, 0, 0.15);\n",
              "      filter: drop-shadow(0px 1px 2px rgba(0, 0, 0, 0.3));\n",
              "      fill: #FFFFFF;\n",
              "    }\n",
              "  </style>\n",
              "\n",
              "      <script>\n",
              "        const buttonEl =\n",
              "          document.querySelector('#df-c35df69a-23db-4fcc-8e75-1af7b9be18ff button.colab-df-convert');\n",
              "        buttonEl.style.display =\n",
              "          google.colab.kernel.accessAllowed ? 'block' : 'none';\n",
              "\n",
              "        async function convertToInteractive(key) {\n",
              "          const element = document.querySelector('#df-c35df69a-23db-4fcc-8e75-1af7b9be18ff');\n",
              "          const dataTable =\n",
              "            await google.colab.kernel.invokeFunction('convertToInteractive',\n",
              "                                                     [key], {});\n",
              "          if (!dataTable) return;\n",
              "\n",
              "          const docLinkHtml = 'Like what you see? Visit the ' +\n",
              "            '<a target=\"_blank\" href=https://colab.research.google.com/notebooks/data_table.ipynb>data table notebook</a>'\n",
              "            + ' to learn more about interactive tables.';\n",
              "          element.innerHTML = '';\n",
              "          dataTable['output_type'] = 'display_data';\n",
              "          await google.colab.output.renderOutput(dataTable, element);\n",
              "          const docLink = document.createElement('div');\n",
              "          docLink.innerHTML = docLinkHtml;\n",
              "          element.appendChild(docLink);\n",
              "        }\n",
              "      </script>\n",
              "    </div>\n",
              "  </div>\n",
              "  "
            ]
          },
          "metadata": {},
          "execution_count": 10
        }
      ]
    },
    {
      "cell_type": "markdown",
      "source": [
        "**7. Selecting the model using TPOT**"
      ],
      "metadata": {
        "id": "MYKvdqO_gDiS"
      }
    },
    {
      "cell_type": "code",
      "source": [
        "# Install tpot on the server\n",
        "!pip install tpot\n",
        "\n"
      ],
      "metadata": {
        "colab": {
          "base_uri": "https://localhost:8080/"
        },
        "id": "TRodL1uTf4H4",
        "outputId": "5d28596f-2c86-4343-ca82-1c6f04fbe6f6"
      },
      "execution_count": 11,
      "outputs": [
        {
          "output_type": "stream",
          "name": "stdout",
          "text": [
            "Looking in indexes: https://pypi.org/simple, https://us-python.pkg.dev/colab-wheels/public/simple/\n",
            "Collecting tpot\n",
            "  Downloading TPOT-0.11.7-py3-none-any.whl (87 kB)\n",
            "\u001b[K     |████████████████████████████████| 87 kB 4.0 MB/s \n",
            "\u001b[?25hCollecting xgboost>=1.1.0\n",
            "  Downloading xgboost-1.6.1-py3-none-manylinux2014_x86_64.whl (192.9 MB)\n",
            "\u001b[K     |████████████████████████████████| 192.9 MB 71 kB/s \n",
            "\u001b[?25hRequirement already satisfied: tqdm>=4.36.1 in /usr/local/lib/python3.7/dist-packages (from tpot) (4.64.0)\n",
            "Requirement already satisfied: joblib>=0.13.2 in /usr/local/lib/python3.7/dist-packages (from tpot) (1.1.0)\n",
            "Collecting update-checker>=0.16\n",
            "  Downloading update_checker-0.18.0-py3-none-any.whl (7.0 kB)\n",
            "Requirement already satisfied: scipy>=1.3.1 in /usr/local/lib/python3.7/dist-packages (from tpot) (1.4.1)\n",
            "Collecting deap>=1.2\n",
            "  Downloading deap-1.3.1-cp37-cp37m-manylinux_2_5_x86_64.manylinux1_x86_64.manylinux_2_12_x86_64.manylinux2010_x86_64.whl (160 kB)\n",
            "\u001b[K     |████████████████████████████████| 160 kB 65.5 MB/s \n",
            "\u001b[?25hCollecting stopit>=1.1.1\n",
            "  Downloading stopit-1.1.2.tar.gz (18 kB)\n",
            "Requirement already satisfied: numpy>=1.16.3 in /usr/local/lib/python3.7/dist-packages (from tpot) (1.21.6)\n",
            "Requirement already satisfied: scikit-learn>=0.22.0 in /usr/local/lib/python3.7/dist-packages (from tpot) (1.0.2)\n",
            "Requirement already satisfied: pandas>=0.24.2 in /usr/local/lib/python3.7/dist-packages (from tpot) (1.3.5)\n",
            "Requirement already satisfied: python-dateutil>=2.7.3 in /usr/local/lib/python3.7/dist-packages (from pandas>=0.24.2->tpot) (2.8.2)\n",
            "Requirement already satisfied: pytz>=2017.3 in /usr/local/lib/python3.7/dist-packages (from pandas>=0.24.2->tpot) (2022.1)\n",
            "Requirement already satisfied: six>=1.5 in /usr/local/lib/python3.7/dist-packages (from python-dateutil>=2.7.3->pandas>=0.24.2->tpot) (1.15.0)\n",
            "Requirement already satisfied: threadpoolctl>=2.0.0 in /usr/local/lib/python3.7/dist-packages (from scikit-learn>=0.22.0->tpot) (3.1.0)\n",
            "Requirement already satisfied: requests>=2.3.0 in /usr/local/lib/python3.7/dist-packages (from update-checker>=0.16->tpot) (2.23.0)\n",
            "Requirement already satisfied: urllib3!=1.25.0,!=1.25.1,<1.26,>=1.21.1 in /usr/local/lib/python3.7/dist-packages (from requests>=2.3.0->update-checker>=0.16->tpot) (1.24.3)\n",
            "Requirement already satisfied: certifi>=2017.4.17 in /usr/local/lib/python3.7/dist-packages (from requests>=2.3.0->update-checker>=0.16->tpot) (2022.6.15)\n",
            "Requirement already satisfied: chardet<4,>=3.0.2 in /usr/local/lib/python3.7/dist-packages (from requests>=2.3.0->update-checker>=0.16->tpot) (3.0.4)\n",
            "Requirement already satisfied: idna<3,>=2.5 in /usr/local/lib/python3.7/dist-packages (from requests>=2.3.0->update-checker>=0.16->tpot) (2.10)\n",
            "Building wheels for collected packages: stopit\n",
            "  Building wheel for stopit (setup.py) ... \u001b[?25l\u001b[?25hdone\n",
            "  Created wheel for stopit: filename=stopit-1.1.2-py3-none-any.whl size=11956 sha256=a91f184339ef28d8ff9182b1fd2ea1abc4859628aebb8ffc2f5246c6e3c39027\n",
            "  Stored in directory: /root/.cache/pip/wheels/e2/d2/79/eaf81edb391e27c87f51b8ef901ecc85a5363dc96b8b8d71e3\n",
            "Successfully built stopit\n",
            "Installing collected packages: xgboost, update-checker, stopit, deap, tpot\n",
            "  Attempting uninstall: xgboost\n",
            "    Found existing installation: xgboost 0.90\n",
            "    Uninstalling xgboost-0.90:\n",
            "      Successfully uninstalled xgboost-0.90\n",
            "Successfully installed deap-1.3.1 stopit-1.1.2 tpot-0.11.7 update-checker-0.18.0 xgboost-1.6.1\n"
          ]
        }
      ]
    },
    {
      "cell_type": "code",
      "source": [
        "#import the tpotclassifier \n",
        "from tpot import TPOTClassifier\n",
        "\n",
        "tpot=TPOTClassifier(\n",
        "    generations=5,\n",
        "    population_size=20,\n",
        "    verbosity=2,\n",
        "    scoring='roc_auc',\n",
        "    random_state=42,\n",
        "    disable_update_check=True,\n",
        "    config_dict='TPOT light'\n",
        ")\n",
        "tpot.fit(X_train,y_train)\n",
        "\n",
        "\n",
        "\n"
      ],
      "metadata": {
        "colab": {
          "base_uri": "https://localhost:8080/",
          "height": 277,
          "referenced_widgets": [
            "820f46ec5db949b5804ca1a85743c617",
            "d63206972374404b932375df4f429086",
            "e3320770f4c946d289677e57432e0b21",
            "d34d7d9152ff44e6b7e374953f585726",
            "97e40b59334b497298a92ceb7be54e6b",
            "c7249f8f03c44c16b0cbbb5b128337a3",
            "af900f0419954bca974673bb82b90624",
            "8b99f98e41424a6b83d3af4f66623553",
            "a5c99633597240ba88544f0967c81559",
            "1869f9aebe9346929aa833639016526d",
            "e6bf788c17ac4458a10faa0a281bc25f"
          ]
        },
        "id": "Ccb4tOidiWG0",
        "outputId": "40b8a9ad-c5b4-41ae-8f64-a1d85cf50e4e"
      },
      "execution_count": 16,
      "outputs": [
        {
          "output_type": "display_data",
          "data": {
            "text/plain": [
              "Optimization Progress:   0%|          | 0/120 [00:00<?, ?pipeline/s]"
            ],
            "application/vnd.jupyter.widget-view+json": {
              "version_major": 2,
              "version_minor": 0,
              "model_id": "820f46ec5db949b5804ca1a85743c617"
            }
          },
          "metadata": {}
        },
        {
          "output_type": "stream",
          "name": "stdout",
          "text": [
            "\n",
            "Generation 1 - Current best internal CV score: 0.7422459184429089\n",
            "\n",
            "Generation 2 - Current best internal CV score: 0.7422459184429089\n",
            "\n",
            "Generation 3 - Current best internal CV score: 0.7422459184429089\n",
            "\n",
            "Generation 4 - Current best internal CV score: 0.7422459184429089\n",
            "\n",
            "Generation 5 - Current best internal CV score: 0.7456308339276876\n",
            "\n",
            "Best pipeline: MultinomialNB(Normalizer(input_matrix, norm=l2), alpha=0.001, fit_prior=True)\n"
          ]
        },
        {
          "output_type": "execute_result",
          "data": {
            "text/plain": [
              "TPOTClassifier(config_dict='TPOT light', disable_update_check=True,\n",
              "               generations=5, population_size=20, random_state=42,\n",
              "               scoring='roc_auc', verbosity=2)"
            ]
          },
          "metadata": {},
          "execution_count": 16
        }
      ]
    },
    {
      "cell_type": "code",
      "source": [
        "tpot.fitted_pipeline_ #best pipeline\n"
      ],
      "metadata": {
        "colab": {
          "base_uri": "https://localhost:8080/"
        },
        "id": "x_kBYbe9FtYc",
        "outputId": "354ddaa3-22d0-4ff9-c640-b71ce98d949b"
      },
      "execution_count": 17,
      "outputs": [
        {
          "output_type": "execute_result",
          "data": {
            "text/plain": [
              "Pipeline(steps=[('normalizer', Normalizer()),\n",
              "                ('multinomialnb', MultinomialNB(alpha=0.001))])"
            ]
          },
          "metadata": {},
          "execution_count": 17
        }
      ]
    },
    {
      "cell_type": "markdown",
      "source": [
        "8.  **Cheking the variance**\n",
        "\n"
      ],
      "metadata": {
        "id": "kEDcGryadH58"
      }
    },
    {
      "cell_type": "code",
      "source": [
        "X_train.var().round()"
      ],
      "metadata": {
        "id": "785awOA3tA8j",
        "colab": {
          "base_uri": "https://localhost:8080/"
        },
        "outputId": "68572ee4-f0a3-4a85-e7f9-afdf2780f5df"
      },
      "execution_count": 13,
      "outputs": [
        {
          "output_type": "execute_result",
          "data": {
            "text/plain": [
              "Recency (months)              67.0\n",
              "Frequency (times)             34.0\n",
              "Monetary (c.c. blood)    2114364.0\n",
              "Time (months)                611.0\n",
              "dtype: float64"
            ]
          },
          "metadata": {},
          "execution_count": 13
        }
      ]
    },
    {
      "cell_type": "markdown",
      "source": [
        "9. **Log normalization**"
      ],
      "metadata": {
        "id": "6KrJotGQlYj0"
      }
    },
    {
      "cell_type": "code",
      "source": [
        "import numpy as np\n",
        "\n",
        "#copy X_train , X_test and replace them with normed values\n",
        "\n",
        "X_train_normed,X_test_normed = X_train.copy(),X_test.copy()\n",
        "\n",
        "#which column to normalize \n",
        "col_normalize = 'Monetary (c.c. blood)'\n",
        "\n",
        "for df_ in[X_train_normed,X_test_normed]:\n",
        "  df_['monetary_llog']=np.log(df_[col_normalize])\n",
        "  df_.drop(columns=col_normalize,inplace=True)\n",
        "\n",
        "X_train_normed.var().round(3)"
      ],
      "metadata": {
        "id": "HrcOmgMMeEem",
        "colab": {
          "base_uri": "https://localhost:8080/"
        },
        "outputId": "8eeed559-5932-4493-efb1-c7db7c117d16"
      },
      "execution_count": 18,
      "outputs": [
        {
          "output_type": "execute_result",
          "data": {
            "text/plain": [
              "Recency (months)      66.929\n",
              "Frequency (times)     33.830\n",
              "Time (months)        611.147\n",
              "monetary_llog          0.837\n",
              "dtype: float64"
            ]
          },
          "metadata": {},
          "execution_count": 18
        }
      ]
    },
    {
      "cell_type": "markdown",
      "source": [
        "10. **Training the linear regression model**"
      ],
      "metadata": {
        "id": "LPPVrGtHhx76"
      }
    },
    {
      "cell_type": "code",
      "source": [
        "from sklearn import linear_model\n",
        "from sklearn.metrics import roc_auc_score\n",
        "\n",
        "logreg = linear_model.LogisticRegression(solver='liblinear',random_state=42)\n",
        "\n",
        "#Train the model\n",
        "logreg.fit(X_train_normed,y_train)\n",
        "\n",
        "# AUC score for tpot model\n",
        "logreg_auc_score = roc_auc_score(y_test, logreg.predict_proba(X_test_normed)[:, 1])\n",
        "print(f'\\nAUC score: {logreg_auc_score:.4f}')\n"
      ],
      "metadata": {
        "colab": {
          "base_uri": "https://localhost:8080/"
        },
        "id": "nuxNNKFfnSTN",
        "outputId": "358094ae-dcc2-4456-cf17-888e609f0a41"
      },
      "execution_count": 25,
      "outputs": [
        {
          "output_type": "stream",
          "name": "stdout",
          "text": [
            "\n",
            "AUC score: 0.7890\n"
          ]
        }
      ]
    },
    {
      "cell_type": "code",
      "source": [
        ""
      ],
      "metadata": {
        "id": "cE_Y4foNihD-"
      },
      "execution_count": null,
      "outputs": []
    }
  ]
}